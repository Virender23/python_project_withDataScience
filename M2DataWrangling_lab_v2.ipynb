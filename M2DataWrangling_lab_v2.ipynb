{
  "cells": [
    {
      "cell_type": "markdown",
      "metadata": {
        "id": "vqHZGIH6_Vwn"
      },
      "source": [
        "<p style=\"text-align:center\">\n",
        "    <a href=\"https://skills.network\" target=\"_blank\">\n",
        "    <img src=\"https://cf-courses-data.s3.us.cloud-object-storage.appdomain.cloud/assets/logos/SN_web_lightmode.png\" width=\"200\" alt=\"Skills Network Logo\"  />\n",
        "    </a>\n",
        "</p>\n"
      ]
    },
    {
      "cell_type": "markdown",
      "metadata": {
        "id": "IZvmLHkm_Vwp"
      },
      "source": [
        "# **Data Wrangling Lab**\n"
      ]
    },
    {
      "cell_type": "markdown",
      "metadata": {
        "id": "UF-PNM-3_Vwq"
      },
      "source": [
        "Estimated time needed: **45** minutes\n"
      ]
    },
    {
      "cell_type": "markdown",
      "metadata": {
        "id": "i9T3gu1R_Vwq"
      },
      "source": [
        "In this lab, you will perform data wrangling tasks to prepare raw data for analysis. Data wrangling involves cleaning, transforming, and organizing data into a structured format suitable for analysis. This lab focuses on tasks like identifying inconsistencies, encoding categorical variables, and feature transformation.\n"
      ]
    },
    {
      "cell_type": "markdown",
      "metadata": {
        "id": "D24GAKKu_Vwr"
      },
      "source": [
        "## Objectives\n"
      ]
    },
    {
      "cell_type": "markdown",
      "metadata": {
        "id": "oTWyTmtY_Vwr"
      },
      "source": [
        "After completing this lab, you will be able to:\n"
      ]
    },
    {
      "cell_type": "markdown",
      "metadata": {
        "id": "PjWMe_eZ_Vwr"
      },
      "source": [
        "- Identify and remove inconsistent data entries.\n",
        "\n",
        "- Encode categorical variables for analysis.\n",
        "\n",
        "- Handle missing values using multiple imputation strategies.\n",
        "\n",
        "- Apply feature scaling and transformation techniques.\n"
      ]
    },
    {
      "cell_type": "markdown",
      "metadata": {
        "id": "oqfkdtwo_Vws"
      },
      "source": [
        "#### Intsall the required libraries\n"
      ]
    },
    {
      "cell_type": "code",
      "execution_count": 1,
      "metadata": {
        "colab": {
          "base_uri": "https://localhost:8080/"
        },
        "id": "6SVBtl7n_Vws",
        "outputId": "3a046bc2-770a-4124-ff0f-a8883442df10"
      },
      "outputs": [
        {
          "output_type": "stream",
          "name": "stdout",
          "text": [
            "Requirement already satisfied: pandas in /usr/local/lib/python3.10/dist-packages (2.2.2)\n",
            "Requirement already satisfied: numpy>=1.22.4 in /usr/local/lib/python3.10/dist-packages (from pandas) (1.26.4)\n",
            "Requirement already satisfied: python-dateutil>=2.8.2 in /usr/local/lib/python3.10/dist-packages (from pandas) (2.8.2)\n",
            "Requirement already satisfied: pytz>=2020.1 in /usr/local/lib/python3.10/dist-packages (from pandas) (2024.2)\n",
            "Requirement already satisfied: tzdata>=2022.7 in /usr/local/lib/python3.10/dist-packages (from pandas) (2024.2)\n",
            "Requirement already satisfied: six>=1.5 in /usr/local/lib/python3.10/dist-packages (from python-dateutil>=2.8.2->pandas) (1.16.0)\n",
            "Requirement already satisfied: matplotlib in /usr/local/lib/python3.10/dist-packages (3.8.0)\n",
            "Requirement already satisfied: contourpy>=1.0.1 in /usr/local/lib/python3.10/dist-packages (from matplotlib) (1.3.1)\n",
            "Requirement already satisfied: cycler>=0.10 in /usr/local/lib/python3.10/dist-packages (from matplotlib) (0.12.1)\n",
            "Requirement already satisfied: fonttools>=4.22.0 in /usr/local/lib/python3.10/dist-packages (from matplotlib) (4.55.1)\n",
            "Requirement already satisfied: kiwisolver>=1.0.1 in /usr/local/lib/python3.10/dist-packages (from matplotlib) (1.4.7)\n",
            "Requirement already satisfied: numpy<2,>=1.21 in /usr/local/lib/python3.10/dist-packages (from matplotlib) (1.26.4)\n",
            "Requirement already satisfied: packaging>=20.0 in /usr/local/lib/python3.10/dist-packages (from matplotlib) (24.2)\n",
            "Requirement already satisfied: pillow>=6.2.0 in /usr/local/lib/python3.10/dist-packages (from matplotlib) (11.0.0)\n",
            "Requirement already satisfied: pyparsing>=2.3.1 in /usr/local/lib/python3.10/dist-packages (from matplotlib) (3.2.0)\n",
            "Requirement already satisfied: python-dateutil>=2.7 in /usr/local/lib/python3.10/dist-packages (from matplotlib) (2.8.2)\n",
            "Requirement already satisfied: six>=1.5 in /usr/local/lib/python3.10/dist-packages (from python-dateutil>=2.7->matplotlib) (1.16.0)\n"
          ]
        }
      ],
      "source": [
        "!pip install pandas\n",
        "!pip install matplotlib"
      ]
    },
    {
      "cell_type": "markdown",
      "metadata": {
        "id": "j27z-ydh_Vwt"
      },
      "source": [
        "## Tasks\n"
      ]
    },
    {
      "cell_type": "markdown",
      "metadata": {
        "id": "OUJmUIp4_Vwt"
      },
      "source": [
        "#### Step 1: Import the necessary module.\n"
      ]
    },
    {
      "cell_type": "markdown",
      "metadata": {
        "id": "ZaPh2T6Q_Vwu"
      },
      "source": [
        "### 1. Load the Dataset\n"
      ]
    },
    {
      "cell_type": "markdown",
      "metadata": {
        "id": "Iy5-y5Bi_Vwu"
      },
      "source": [
        "<h5>1.1 Import necessary libraries and load the dataset.</h5>\n"
      ]
    },
    {
      "cell_type": "markdown",
      "metadata": {
        "id": "oAsZN8t5_Vwu"
      },
      "source": [
        "Ensure the dataset is loaded correctly by displaying the first few rows.\n"
      ]
    },
    {
      "cell_type": "code",
      "execution_count": 2,
      "metadata": {
        "colab": {
          "base_uri": "https://localhost:8080/"
        },
        "id": "2wNJByJo_Vwu",
        "outputId": "332c5f4e-09e9-4135-d2f3-ba317512c599"
      },
      "outputs": [
        {
          "output_type": "stream",
          "name": "stdout",
          "text": [
            "   ResponseId                      MainBranch                 Age  \\\n",
            "0           1  I am a developer by profession  Under 18 years old   \n",
            "1           2  I am a developer by profession     35-44 years old   \n",
            "2           3  I am a developer by profession     45-54 years old   \n",
            "3           4           I am learning to code     18-24 years old   \n",
            "4           5  I am a developer by profession     18-24 years old   \n",
            "\n",
            "            Employment RemoteWork   Check  \\\n",
            "0  Employed, full-time     Remote  Apples   \n",
            "1  Employed, full-time     Remote  Apples   \n",
            "2  Employed, full-time     Remote  Apples   \n",
            "3   Student, full-time        NaN  Apples   \n",
            "4   Student, full-time        NaN  Apples   \n",
            "\n",
            "                                    CodingActivities  \\\n",
            "0                                              Hobby   \n",
            "1  Hobby;Contribute to open-source projects;Other...   \n",
            "2  Hobby;Contribute to open-source projects;Other...   \n",
            "3                                                NaN   \n",
            "4                                                NaN   \n",
            "\n",
            "                                             EdLevel  \\\n",
            "0                          Primary/elementary school   \n",
            "1       Bachelor’s degree (B.A., B.S., B.Eng., etc.)   \n",
            "2    Master’s degree (M.A., M.S., M.Eng., MBA, etc.)   \n",
            "3  Some college/university study without earning ...   \n",
            "4  Secondary school (e.g. American high school, G...   \n",
            "\n",
            "                                           LearnCode  \\\n",
            "0                             Books / Physical media   \n",
            "1  Books / Physical media;Colleague;On the job tr...   \n",
            "2  Books / Physical media;Colleague;On the job tr...   \n",
            "3  Other online resources (e.g., videos, blogs, f...   \n",
            "4  Other online resources (e.g., videos, blogs, f...   \n",
            "\n",
            "                                     LearnCodeOnline  ... JobSatPoints_6  \\\n",
            "0                                                NaN  ...            NaN   \n",
            "1  Technical documentation;Blogs;Books;Written Tu...  ...            0.0   \n",
            "2  Technical documentation;Blogs;Books;Written Tu...  ...            NaN   \n",
            "3  Stack Overflow;How-to videos;Interactive tutorial  ...            NaN   \n",
            "4  Technical documentation;Blogs;Written Tutorial...  ...            NaN   \n",
            "\n",
            "  JobSatPoints_7 JobSatPoints_8 JobSatPoints_9 JobSatPoints_10  \\\n",
            "0            NaN            NaN            NaN             NaN   \n",
            "1            0.0            0.0            0.0             0.0   \n",
            "2            NaN            NaN            NaN             NaN   \n",
            "3            NaN            NaN            NaN             NaN   \n",
            "4            NaN            NaN            NaN             NaN   \n",
            "\n",
            "  JobSatPoints_11           SurveyLength SurveyEase ConvertedCompYearly JobSat  \n",
            "0             NaN                    NaN        NaN                 NaN    NaN  \n",
            "1             0.0                    NaN        NaN                 NaN    NaN  \n",
            "2             NaN  Appropriate in length       Easy                 NaN    NaN  \n",
            "3             NaN               Too long       Easy                 NaN    NaN  \n",
            "4             NaN              Too short       Easy                 NaN    NaN  \n",
            "\n",
            "[5 rows x 114 columns]\n"
          ]
        }
      ],
      "source": [
        "# Import necessary libraries\n",
        "import pandas as pd\n",
        "\n",
        "# Load the Stack Overflow survey data\n",
        "dataset_url = \"https://cf-courses-data.s3.us.cloud-object-storage.appdomain.cloud/n01PQ9pSmiRX6520flujwQ/survey-data.csv\"\n",
        "df = pd.read_csv(dataset_url)\n",
        "\n",
        "# Display the first few rows\n",
        "print(df.head())\n"
      ]
    },
    {
      "cell_type": "markdown",
      "metadata": {
        "id": "i-MZSmzS_Vwv"
      },
      "source": [
        "#### 2. Explore the Dataset\n"
      ]
    },
    {
      "cell_type": "markdown",
      "metadata": {
        "id": "Bs3Y2FpD_Vwv"
      },
      "source": [
        "<h5>2.1 Summarize the dataset by displaying the column data types, counts, and missing values.</h5>\n"
      ]
    },
    {
      "cell_type": "code",
      "execution_count": 3,
      "metadata": {
        "colab": {
          "base_uri": "https://localhost:8080/"
        },
        "id": "5b0f9NQx_Vwv",
        "outputId": "ba22e721-5edb-4296-f564-d91aca6b0197"
      },
      "outputs": [
        {
          "output_type": "stream",
          "name": "stdout",
          "text": [
            "Columns datatypes:\n",
            "ResponseId               int64\n",
            "MainBranch              object\n",
            "Age                     object\n",
            "Employment              object\n",
            "RemoteWork              object\n",
            "                        ...   \n",
            "JobSatPoints_11        float64\n",
            "SurveyLength            object\n",
            "SurveyEase              object\n",
            "ConvertedCompYearly    float64\n",
            "JobSat                 float64\n",
            "Length: 114, dtype: object\n",
            "\n",
            "Columns counts:114\n",
            "ResponseId                 0\n",
            "MainBranch                 0\n",
            "Age                        0\n",
            "Employment                 0\n",
            "RemoteWork             10631\n",
            "                       ...  \n",
            "JobSatPoints_11        35992\n",
            "SurveyLength            9255\n",
            "SurveyEase              9199\n",
            "ConvertedCompYearly    42002\n",
            "JobSat                 36311\n",
            "Length: 114, dtype: int64\n"
          ]
        }
      ],
      "source": [
        "# Write your code here\n",
        "print(f\"Columns datatypes:\\n{df.dtypes}\")\n",
        "print(f\"\\nColumns counts:{df.shape[1]}\")\n",
        "\n",
        "df_missing_Values= df.isnull().sum()\n",
        "print(df_missing_Values)"
      ]
    },
    {
      "cell_type": "markdown",
      "metadata": {
        "id": "9IMQ1s6e_Vwv"
      },
      "source": [
        "<h5>2.2 Generate basic statistics for numerical columns.</h5>\n"
      ]
    },
    {
      "cell_type": "code",
      "execution_count": 4,
      "metadata": {
        "colab": {
          "base_uri": "https://localhost:8080/",
          "height": 320
        },
        "id": "gFQ2IFVj_Vww",
        "outputId": "2bf8769d-185e-49f6-b7e3-dd87c8ab3971"
      },
      "outputs": [
        {
          "output_type": "execute_result",
          "data": {
            "text/plain": [
              "         ResponseId      CompTotal       WorkExp  JobSatPoints_1  \\\n",
              "count  65437.000000   3.374000e+04  29658.000000    29324.000000   \n",
              "mean   32719.000000  2.963841e+145     11.466957       18.581094   \n",
              "std    18890.179119  5.444117e+147      9.168709       25.966221   \n",
              "min        1.000000   0.000000e+00      0.000000        0.000000   \n",
              "25%    16360.000000   6.000000e+04      4.000000        0.000000   \n",
              "50%    32719.000000   1.100000e+05      9.000000       10.000000   \n",
              "75%    49078.000000   2.500000e+05     16.000000       22.000000   \n",
              "max    65437.000000  1.000000e+150     50.000000      100.000000   \n",
              "\n",
              "       JobSatPoints_4  JobSatPoints_5  JobSatPoints_6  JobSatPoints_7  \\\n",
              "count    29393.000000    29411.000000    29450.000000     29448.00000   \n",
              "mean         7.522140       10.060857       24.343232        22.96522   \n",
              "std         18.422661       21.833836       27.089360        27.01774   \n",
              "min          0.000000        0.000000        0.000000         0.00000   \n",
              "25%          0.000000        0.000000        0.000000         0.00000   \n",
              "50%          0.000000        0.000000       20.000000        15.00000   \n",
              "75%          5.000000       10.000000       30.000000        30.00000   \n",
              "max        100.000000      100.000000      100.000000       100.00000   \n",
              "\n",
              "       JobSatPoints_8  JobSatPoints_9  JobSatPoints_10  JobSatPoints_11  \\\n",
              "count    29456.000000    29456.000000     29450.000000     29445.000000   \n",
              "mean        20.278165       16.169432        10.955713         9.953948   \n",
              "std         26.108110       24.845032        22.906263        21.775652   \n",
              "min          0.000000        0.000000         0.000000         0.000000   \n",
              "25%          0.000000        0.000000         0.000000         0.000000   \n",
              "50%         10.000000        5.000000         0.000000         0.000000   \n",
              "75%         25.000000       20.000000        10.000000        10.000000   \n",
              "max        100.000000      100.000000       100.000000       100.000000   \n",
              "\n",
              "       ConvertedCompYearly        JobSat  \n",
              "count         2.343500e+04  29126.000000  \n",
              "mean          8.615529e+04      6.935041  \n",
              "std           1.867570e+05      2.088259  \n",
              "min           1.000000e+00      0.000000  \n",
              "25%           3.271200e+04      6.000000  \n",
              "50%           6.500000e+04      7.000000  \n",
              "75%           1.079715e+05      8.000000  \n",
              "max           1.625660e+07     10.000000  "
            ],
            "text/html": [
              "\n",
              "  <div id=\"df-030a1af8-b2d0-4ee7-be26-658ef804cd89\" class=\"colab-df-container\">\n",
              "    <div>\n",
              "<style scoped>\n",
              "    .dataframe tbody tr th:only-of-type {\n",
              "        vertical-align: middle;\n",
              "    }\n",
              "\n",
              "    .dataframe tbody tr th {\n",
              "        vertical-align: top;\n",
              "    }\n",
              "\n",
              "    .dataframe thead th {\n",
              "        text-align: right;\n",
              "    }\n",
              "</style>\n",
              "<table border=\"1\" class=\"dataframe\">\n",
              "  <thead>\n",
              "    <tr style=\"text-align: right;\">\n",
              "      <th></th>\n",
              "      <th>ResponseId</th>\n",
              "      <th>CompTotal</th>\n",
              "      <th>WorkExp</th>\n",
              "      <th>JobSatPoints_1</th>\n",
              "      <th>JobSatPoints_4</th>\n",
              "      <th>JobSatPoints_5</th>\n",
              "      <th>JobSatPoints_6</th>\n",
              "      <th>JobSatPoints_7</th>\n",
              "      <th>JobSatPoints_8</th>\n",
              "      <th>JobSatPoints_9</th>\n",
              "      <th>JobSatPoints_10</th>\n",
              "      <th>JobSatPoints_11</th>\n",
              "      <th>ConvertedCompYearly</th>\n",
              "      <th>JobSat</th>\n",
              "    </tr>\n",
              "  </thead>\n",
              "  <tbody>\n",
              "    <tr>\n",
              "      <th>count</th>\n",
              "      <td>65437.000000</td>\n",
              "      <td>3.374000e+04</td>\n",
              "      <td>29658.000000</td>\n",
              "      <td>29324.000000</td>\n",
              "      <td>29393.000000</td>\n",
              "      <td>29411.000000</td>\n",
              "      <td>29450.000000</td>\n",
              "      <td>29448.00000</td>\n",
              "      <td>29456.000000</td>\n",
              "      <td>29456.000000</td>\n",
              "      <td>29450.000000</td>\n",
              "      <td>29445.000000</td>\n",
              "      <td>2.343500e+04</td>\n",
              "      <td>29126.000000</td>\n",
              "    </tr>\n",
              "    <tr>\n",
              "      <th>mean</th>\n",
              "      <td>32719.000000</td>\n",
              "      <td>2.963841e+145</td>\n",
              "      <td>11.466957</td>\n",
              "      <td>18.581094</td>\n",
              "      <td>7.522140</td>\n",
              "      <td>10.060857</td>\n",
              "      <td>24.343232</td>\n",
              "      <td>22.96522</td>\n",
              "      <td>20.278165</td>\n",
              "      <td>16.169432</td>\n",
              "      <td>10.955713</td>\n",
              "      <td>9.953948</td>\n",
              "      <td>8.615529e+04</td>\n",
              "      <td>6.935041</td>\n",
              "    </tr>\n",
              "    <tr>\n",
              "      <th>std</th>\n",
              "      <td>18890.179119</td>\n",
              "      <td>5.444117e+147</td>\n",
              "      <td>9.168709</td>\n",
              "      <td>25.966221</td>\n",
              "      <td>18.422661</td>\n",
              "      <td>21.833836</td>\n",
              "      <td>27.089360</td>\n",
              "      <td>27.01774</td>\n",
              "      <td>26.108110</td>\n",
              "      <td>24.845032</td>\n",
              "      <td>22.906263</td>\n",
              "      <td>21.775652</td>\n",
              "      <td>1.867570e+05</td>\n",
              "      <td>2.088259</td>\n",
              "    </tr>\n",
              "    <tr>\n",
              "      <th>min</th>\n",
              "      <td>1.000000</td>\n",
              "      <td>0.000000e+00</td>\n",
              "      <td>0.000000</td>\n",
              "      <td>0.000000</td>\n",
              "      <td>0.000000</td>\n",
              "      <td>0.000000</td>\n",
              "      <td>0.000000</td>\n",
              "      <td>0.00000</td>\n",
              "      <td>0.000000</td>\n",
              "      <td>0.000000</td>\n",
              "      <td>0.000000</td>\n",
              "      <td>0.000000</td>\n",
              "      <td>1.000000e+00</td>\n",
              "      <td>0.000000</td>\n",
              "    </tr>\n",
              "    <tr>\n",
              "      <th>25%</th>\n",
              "      <td>16360.000000</td>\n",
              "      <td>6.000000e+04</td>\n",
              "      <td>4.000000</td>\n",
              "      <td>0.000000</td>\n",
              "      <td>0.000000</td>\n",
              "      <td>0.000000</td>\n",
              "      <td>0.000000</td>\n",
              "      <td>0.00000</td>\n",
              "      <td>0.000000</td>\n",
              "      <td>0.000000</td>\n",
              "      <td>0.000000</td>\n",
              "      <td>0.000000</td>\n",
              "      <td>3.271200e+04</td>\n",
              "      <td>6.000000</td>\n",
              "    </tr>\n",
              "    <tr>\n",
              "      <th>50%</th>\n",
              "      <td>32719.000000</td>\n",
              "      <td>1.100000e+05</td>\n",
              "      <td>9.000000</td>\n",
              "      <td>10.000000</td>\n",
              "      <td>0.000000</td>\n",
              "      <td>0.000000</td>\n",
              "      <td>20.000000</td>\n",
              "      <td>15.00000</td>\n",
              "      <td>10.000000</td>\n",
              "      <td>5.000000</td>\n",
              "      <td>0.000000</td>\n",
              "      <td>0.000000</td>\n",
              "      <td>6.500000e+04</td>\n",
              "      <td>7.000000</td>\n",
              "    </tr>\n",
              "    <tr>\n",
              "      <th>75%</th>\n",
              "      <td>49078.000000</td>\n",
              "      <td>2.500000e+05</td>\n",
              "      <td>16.000000</td>\n",
              "      <td>22.000000</td>\n",
              "      <td>5.000000</td>\n",
              "      <td>10.000000</td>\n",
              "      <td>30.000000</td>\n",
              "      <td>30.00000</td>\n",
              "      <td>25.000000</td>\n",
              "      <td>20.000000</td>\n",
              "      <td>10.000000</td>\n",
              "      <td>10.000000</td>\n",
              "      <td>1.079715e+05</td>\n",
              "      <td>8.000000</td>\n",
              "    </tr>\n",
              "    <tr>\n",
              "      <th>max</th>\n",
              "      <td>65437.000000</td>\n",
              "      <td>1.000000e+150</td>\n",
              "      <td>50.000000</td>\n",
              "      <td>100.000000</td>\n",
              "      <td>100.000000</td>\n",
              "      <td>100.000000</td>\n",
              "      <td>100.000000</td>\n",
              "      <td>100.00000</td>\n",
              "      <td>100.000000</td>\n",
              "      <td>100.000000</td>\n",
              "      <td>100.000000</td>\n",
              "      <td>100.000000</td>\n",
              "      <td>1.625660e+07</td>\n",
              "      <td>10.000000</td>\n",
              "    </tr>\n",
              "  </tbody>\n",
              "</table>\n",
              "</div>\n",
              "    <div class=\"colab-df-buttons\">\n",
              "\n",
              "  <div class=\"colab-df-container\">\n",
              "    <button class=\"colab-df-convert\" onclick=\"convertToInteractive('df-030a1af8-b2d0-4ee7-be26-658ef804cd89')\"\n",
              "            title=\"Convert this dataframe to an interactive table.\"\n",
              "            style=\"display:none;\">\n",
              "\n",
              "  <svg xmlns=\"http://www.w3.org/2000/svg\" height=\"24px\" viewBox=\"0 -960 960 960\">\n",
              "    <path d=\"M120-120v-720h720v720H120Zm60-500h600v-160H180v160Zm220 220h160v-160H400v160Zm0 220h160v-160H400v160ZM180-400h160v-160H180v160Zm440 0h160v-160H620v160ZM180-180h160v-160H180v160Zm440 0h160v-160H620v160Z\"/>\n",
              "  </svg>\n",
              "    </button>\n",
              "\n",
              "  <style>\n",
              "    .colab-df-container {\n",
              "      display:flex;\n",
              "      gap: 12px;\n",
              "    }\n",
              "\n",
              "    .colab-df-convert {\n",
              "      background-color: #E8F0FE;\n",
              "      border: none;\n",
              "      border-radius: 50%;\n",
              "      cursor: pointer;\n",
              "      display: none;\n",
              "      fill: #1967D2;\n",
              "      height: 32px;\n",
              "      padding: 0 0 0 0;\n",
              "      width: 32px;\n",
              "    }\n",
              "\n",
              "    .colab-df-convert:hover {\n",
              "      background-color: #E2EBFA;\n",
              "      box-shadow: 0px 1px 2px rgba(60, 64, 67, 0.3), 0px 1px 3px 1px rgba(60, 64, 67, 0.15);\n",
              "      fill: #174EA6;\n",
              "    }\n",
              "\n",
              "    .colab-df-buttons div {\n",
              "      margin-bottom: 4px;\n",
              "    }\n",
              "\n",
              "    [theme=dark] .colab-df-convert {\n",
              "      background-color: #3B4455;\n",
              "      fill: #D2E3FC;\n",
              "    }\n",
              "\n",
              "    [theme=dark] .colab-df-convert:hover {\n",
              "      background-color: #434B5C;\n",
              "      box-shadow: 0px 1px 3px 1px rgba(0, 0, 0, 0.15);\n",
              "      filter: drop-shadow(0px 1px 2px rgba(0, 0, 0, 0.3));\n",
              "      fill: #FFFFFF;\n",
              "    }\n",
              "  </style>\n",
              "\n",
              "    <script>\n",
              "      const buttonEl =\n",
              "        document.querySelector('#df-030a1af8-b2d0-4ee7-be26-658ef804cd89 button.colab-df-convert');\n",
              "      buttonEl.style.display =\n",
              "        google.colab.kernel.accessAllowed ? 'block' : 'none';\n",
              "\n",
              "      async function convertToInteractive(key) {\n",
              "        const element = document.querySelector('#df-030a1af8-b2d0-4ee7-be26-658ef804cd89');\n",
              "        const dataTable =\n",
              "          await google.colab.kernel.invokeFunction('convertToInteractive',\n",
              "                                                    [key], {});\n",
              "        if (!dataTable) return;\n",
              "\n",
              "        const docLinkHtml = 'Like what you see? Visit the ' +\n",
              "          '<a target=\"_blank\" href=https://colab.research.google.com/notebooks/data_table.ipynb>data table notebook</a>'\n",
              "          + ' to learn more about interactive tables.';\n",
              "        element.innerHTML = '';\n",
              "        dataTable['output_type'] = 'display_data';\n",
              "        await google.colab.output.renderOutput(dataTable, element);\n",
              "        const docLink = document.createElement('div');\n",
              "        docLink.innerHTML = docLinkHtml;\n",
              "        element.appendChild(docLink);\n",
              "      }\n",
              "    </script>\n",
              "  </div>\n",
              "\n",
              "\n",
              "<div id=\"df-d38c4306-e2ad-40a8-a943-70bcb5d96d65\">\n",
              "  <button class=\"colab-df-quickchart\" onclick=\"quickchart('df-d38c4306-e2ad-40a8-a943-70bcb5d96d65')\"\n",
              "            title=\"Suggest charts\"\n",
              "            style=\"display:none;\">\n",
              "\n",
              "<svg xmlns=\"http://www.w3.org/2000/svg\" height=\"24px\"viewBox=\"0 0 24 24\"\n",
              "     width=\"24px\">\n",
              "    <g>\n",
              "        <path d=\"M19 3H5c-1.1 0-2 .9-2 2v14c0 1.1.9 2 2 2h14c1.1 0 2-.9 2-2V5c0-1.1-.9-2-2-2zM9 17H7v-7h2v7zm4 0h-2V7h2v10zm4 0h-2v-4h2v4z\"/>\n",
              "    </g>\n",
              "</svg>\n",
              "  </button>\n",
              "\n",
              "<style>\n",
              "  .colab-df-quickchart {\n",
              "      --bg-color: #E8F0FE;\n",
              "      --fill-color: #1967D2;\n",
              "      --hover-bg-color: #E2EBFA;\n",
              "      --hover-fill-color: #174EA6;\n",
              "      --disabled-fill-color: #AAA;\n",
              "      --disabled-bg-color: #DDD;\n",
              "  }\n",
              "\n",
              "  [theme=dark] .colab-df-quickchart {\n",
              "      --bg-color: #3B4455;\n",
              "      --fill-color: #D2E3FC;\n",
              "      --hover-bg-color: #434B5C;\n",
              "      --hover-fill-color: #FFFFFF;\n",
              "      --disabled-bg-color: #3B4455;\n",
              "      --disabled-fill-color: #666;\n",
              "  }\n",
              "\n",
              "  .colab-df-quickchart {\n",
              "    background-color: var(--bg-color);\n",
              "    border: none;\n",
              "    border-radius: 50%;\n",
              "    cursor: pointer;\n",
              "    display: none;\n",
              "    fill: var(--fill-color);\n",
              "    height: 32px;\n",
              "    padding: 0;\n",
              "    width: 32px;\n",
              "  }\n",
              "\n",
              "  .colab-df-quickchart:hover {\n",
              "    background-color: var(--hover-bg-color);\n",
              "    box-shadow: 0 1px 2px rgba(60, 64, 67, 0.3), 0 1px 3px 1px rgba(60, 64, 67, 0.15);\n",
              "    fill: var(--button-hover-fill-color);\n",
              "  }\n",
              "\n",
              "  .colab-df-quickchart-complete:disabled,\n",
              "  .colab-df-quickchart-complete:disabled:hover {\n",
              "    background-color: var(--disabled-bg-color);\n",
              "    fill: var(--disabled-fill-color);\n",
              "    box-shadow: none;\n",
              "  }\n",
              "\n",
              "  .colab-df-spinner {\n",
              "    border: 2px solid var(--fill-color);\n",
              "    border-color: transparent;\n",
              "    border-bottom-color: var(--fill-color);\n",
              "    animation:\n",
              "      spin 1s steps(1) infinite;\n",
              "  }\n",
              "\n",
              "  @keyframes spin {\n",
              "    0% {\n",
              "      border-color: transparent;\n",
              "      border-bottom-color: var(--fill-color);\n",
              "      border-left-color: var(--fill-color);\n",
              "    }\n",
              "    20% {\n",
              "      border-color: transparent;\n",
              "      border-left-color: var(--fill-color);\n",
              "      border-top-color: var(--fill-color);\n",
              "    }\n",
              "    30% {\n",
              "      border-color: transparent;\n",
              "      border-left-color: var(--fill-color);\n",
              "      border-top-color: var(--fill-color);\n",
              "      border-right-color: var(--fill-color);\n",
              "    }\n",
              "    40% {\n",
              "      border-color: transparent;\n",
              "      border-right-color: var(--fill-color);\n",
              "      border-top-color: var(--fill-color);\n",
              "    }\n",
              "    60% {\n",
              "      border-color: transparent;\n",
              "      border-right-color: var(--fill-color);\n",
              "    }\n",
              "    80% {\n",
              "      border-color: transparent;\n",
              "      border-right-color: var(--fill-color);\n",
              "      border-bottom-color: var(--fill-color);\n",
              "    }\n",
              "    90% {\n",
              "      border-color: transparent;\n",
              "      border-bottom-color: var(--fill-color);\n",
              "    }\n",
              "  }\n",
              "</style>\n",
              "\n",
              "  <script>\n",
              "    async function quickchart(key) {\n",
              "      const quickchartButtonEl =\n",
              "        document.querySelector('#' + key + ' button');\n",
              "      quickchartButtonEl.disabled = true;  // To prevent multiple clicks.\n",
              "      quickchartButtonEl.classList.add('colab-df-spinner');\n",
              "      try {\n",
              "        const charts = await google.colab.kernel.invokeFunction(\n",
              "            'suggestCharts', [key], {});\n",
              "      } catch (error) {\n",
              "        console.error('Error during call to suggestCharts:', error);\n",
              "      }\n",
              "      quickchartButtonEl.classList.remove('colab-df-spinner');\n",
              "      quickchartButtonEl.classList.add('colab-df-quickchart-complete');\n",
              "    }\n",
              "    (() => {\n",
              "      let quickchartButtonEl =\n",
              "        document.querySelector('#df-d38c4306-e2ad-40a8-a943-70bcb5d96d65 button');\n",
              "      quickchartButtonEl.style.display =\n",
              "        google.colab.kernel.accessAllowed ? 'block' : 'none';\n",
              "    })();\n",
              "  </script>\n",
              "</div>\n",
              "\n",
              "    </div>\n",
              "  </div>\n"
            ],
            "application/vnd.google.colaboratory.intrinsic+json": {
              "type": "dataframe",
              "summary": "{\n  \"name\": \"df\",\n  \"rows\": 8,\n  \"fields\": [\n    {\n      \"column\": \"ResponseId\",\n      \"properties\": {\n        \"dtype\": \"number\",\n        \"std\": 23583.506600312834,\n        \"min\": 1.0,\n        \"max\": 65437.0,\n        \"num_unique_values\": 6,\n        \"samples\": [\n          65437.0,\n          32719.0,\n          49078.0\n        ],\n        \"semantic_type\": \"\",\n        \"description\": \"\"\n      }\n    },\n    {\n      \"column\": \"CompTotal\",\n      \"properties\": {\n        \"dtype\": \"number\",\n        \"std\": 3.532820514532692e+149,\n        \"min\": 0.0,\n        \"max\": 1.0000000000000002e+150,\n        \"num_unique_values\": 8,\n        \"samples\": [\n          2.9638411381149976e+145,\n          110000.0,\n          33740.0\n        ],\n        \"semantic_type\": \"\",\n        \"description\": \"\"\n      }\n    },\n    {\n      \"column\": \"WorkExp\",\n      \"properties\": {\n        \"dtype\": \"number\",\n        \"std\": 10480.665344941794,\n        \"min\": 0.0,\n        \"max\": 29658.0,\n        \"num_unique_values\": 8,\n        \"samples\": [\n          11.46695663901814,\n          9.0,\n          29658.0\n        ],\n        \"semantic_type\": \"\",\n        \"description\": \"\"\n      }\n    },\n    {\n      \"column\": \"JobSatPoints_1\",\n      \"properties\": {\n        \"dtype\": \"number\",\n        \"std\": 10358.731948134116,\n        \"min\": 0.0,\n        \"max\": 29324.0,\n        \"num_unique_values\": 7,\n        \"samples\": [\n          29324.0,\n          18.5810939844496,\n          22.0\n        ],\n        \"semantic_type\": \"\",\n        \"description\": \"\"\n      }\n    },\n    {\n      \"column\": \"JobSatPoints_4\",\n      \"properties\": {\n        \"dtype\": \"number\",\n        \"std\": 10385.435924588386,\n        \"min\": 0.0,\n        \"max\": 29393.0,\n        \"num_unique_values\": 6,\n        \"samples\": [\n          29393.0,\n          7.5221396250808015,\n          100.0\n        ],\n        \"semantic_type\": \"\",\n        \"description\": \"\"\n      }\n    },\n    {\n      \"column\": \"JobSatPoints_5\",\n      \"properties\": {\n        \"dtype\": \"number\",\n        \"std\": 10391.24563442252,\n        \"min\": 0.0,\n        \"max\": 29411.0,\n        \"num_unique_values\": 6,\n        \"samples\": [\n          29411.0,\n          10.06085733229064,\n          100.0\n        ],\n        \"semantic_type\": \"\",\n        \"description\": \"\"\n      }\n    },\n    {\n      \"column\": \"JobSatPoints_6\",\n      \"properties\": {\n        \"dtype\": \"number\",\n        \"std\": 10402.020370937267,\n        \"min\": 0.0,\n        \"max\": 29450.0,\n        \"num_unique_values\": 7,\n        \"samples\": [\n          29450.0,\n          24.34323191850594,\n          30.0\n        ],\n        \"semantic_type\": \"\",\n        \"description\": \"\"\n      }\n    },\n    {\n      \"column\": \"JobSatPoints_7\",\n      \"properties\": {\n        \"dtype\": \"number\",\n        \"std\": 10401.639853643328,\n        \"min\": 0.0,\n        \"max\": 29448.0,\n        \"num_unique_values\": 7,\n        \"samples\": [\n          29448.0,\n          22.965220218690572,\n          30.0\n        ],\n        \"semantic_type\": \"\",\n        \"description\": \"\"\n      }\n    },\n    {\n      \"column\": \"JobSatPoints_8\",\n      \"properties\": {\n        \"dtype\": \"number\",\n        \"std\": 10405.156144112068,\n        \"min\": 0.0,\n        \"max\": 29456.0,\n        \"num_unique_values\": 7,\n        \"samples\": [\n          29456.0,\n          20.278165059750137,\n          25.0\n        ],\n        \"semantic_type\": \"\",\n        \"description\": \"\"\n      }\n    },\n    {\n      \"column\": \"JobSatPoints_9\",\n      \"properties\": {\n        \"dtype\": \"number\",\n        \"std\": 10405.934241772171,\n        \"min\": 0.0,\n        \"max\": 29456.0,\n        \"num_unique_values\": 7,\n        \"samples\": [\n          29456.0,\n          16.169432373709938,\n          20.0\n        ],\n        \"semantic_type\": \"\",\n        \"description\": \"\"\n      }\n    },\n    {\n      \"column\": \"JobSatPoints_10\",\n      \"properties\": {\n        \"dtype\": \"number\",\n        \"std\": 10404.934690499524,\n        \"min\": 0.0,\n        \"max\": 29450.0,\n        \"num_unique_values\": 6,\n        \"samples\": [\n          29450.0,\n          10.955713073005093,\n          100.0\n        ],\n        \"semantic_type\": \"\",\n        \"description\": \"\"\n      }\n    },\n    {\n      \"column\": \"JobSatPoints_11\",\n      \"properties\": {\n        \"dtype\": \"number\",\n        \"std\": 10403.274739988723,\n        \"min\": 0.0,\n        \"max\": 29445.0,\n        \"num_unique_values\": 6,\n        \"samples\": [\n          29445.0,\n          9.95394803871625,\n          100.0\n        ],\n        \"semantic_type\": \"\",\n        \"description\": \"\"\n      }\n    },\n    {\n      \"column\": \"ConvertedCompYearly\",\n      \"properties\": {\n        \"dtype\": \"number\",\n        \"std\": 5722517.730613035,\n        \"min\": 1.0,\n        \"max\": 16256603.0,\n        \"num_unique_values\": 8,\n        \"samples\": [\n          86155.28726264134,\n          65000.0,\n          23435.0\n        ],\n        \"semantic_type\": \"\",\n        \"description\": \"\"\n      }\n    },\n    {\n      \"column\": \"JobSat\",\n      \"properties\": {\n        \"dtype\": \"number\",\n        \"std\": 10295.57507629671,\n        \"min\": 0.0,\n        \"max\": 29126.0,\n        \"num_unique_values\": 8,\n        \"samples\": [\n          6.9350408569662845,\n          7.0,\n          29126.0\n        ],\n        \"semantic_type\": \"\",\n        \"description\": \"\"\n      }\n    }\n  ]\n}"
            }
          },
          "metadata": {},
          "execution_count": 4
        }
      ],
      "source": [
        "# Write your code here\n",
        "df.describe()"
      ]
    },
    {
      "cell_type": "markdown",
      "metadata": {
        "id": "d78lXCGT_Vww"
      },
      "source": [
        "### 3. Identifying and Removing Inconsistencies\n"
      ]
    },
    {
      "cell_type": "markdown",
      "metadata": {
        "id": "176DJRO8_Vww"
      },
      "source": [
        "<h5>3.1 Identify inconsistent or irrelevant entries in specific columns (e.g., Country).</h5>\n"
      ]
    },
    {
      "cell_type": "code",
      "execution_count": 5,
      "metadata": {
        "colab": {
          "base_uri": "https://localhost:8080/"
        },
        "id": "zziH6xqa_Vww",
        "outputId": "5ff643e2-bb3b-43e5-a363-e4754110e3d5"
      },
      "outputs": [
        {
          "output_type": "stream",
          "name": "stdout",
          "text": [
            "0        False\n",
            "1        False\n",
            "2        False\n",
            "3        False\n",
            "4        False\n",
            "         ...  \n",
            "65432     True\n",
            "65433     True\n",
            "65434     True\n",
            "65435    False\n",
            "65436     True\n",
            "Name: Country, Length: 65437, dtype: bool\n",
            "\n",
            "\n",
            "6507\n"
          ]
        }
      ],
      "source": [
        "# Write your code here\n",
        "#df['Country'].nunique()\n",
        "print(df['Country'].isna())\n",
        "print(\"\\n\")\n",
        "print(df['Country'].isna().sum())"
      ]
    },
    {
      "cell_type": "markdown",
      "metadata": {
        "id": "usHYYq7X_Vwx"
      },
      "source": [
        "<h5>3.2 Standardize entries in columns like Country or EdLevel by mapping inconsistent values to a consistent format.</h5>\n"
      ]
    },
    {
      "cell_type": "code",
      "execution_count": 6,
      "metadata": {
        "colab": {
          "base_uri": "https://localhost:8080/"
        },
        "id": "tfGKj0Mb_Vwx",
        "outputId": "72845c49-9ad7-48b0-a86f-01edcb3bcd83"
      },
      "outputs": [
        {
          "output_type": "stream",
          "name": "stdout",
          "text": [
            "United States of America\n",
            "Bachelor’s degree (B.A., B.S., B.Eng., etc.)\n",
            "\n",
            "\n",
            "0                                 United States of America\n",
            "1        United Kingdom of Great Britain and Northern I...\n",
            "2        United Kingdom of Great Britain and Northern I...\n",
            "3                                                   Canada\n",
            "4                                                   Norway\n",
            "                               ...                        \n",
            "65432                             United States of America\n",
            "65433                             United States of America\n",
            "65434                             United States of America\n",
            "65435                                              Germany\n",
            "65436                             United States of America\n",
            "Name: Country, Length: 65437, dtype: object\n",
            "\n",
            "\n",
            "0                                Primary/elementary school\n",
            "1             Bachelor’s degree (B.A., B.S., B.Eng., etc.)\n",
            "2          Master’s degree (M.A., M.S., M.Eng., MBA, etc.)\n",
            "3        Some college/university study without earning ...\n",
            "4        Secondary school (e.g. American high school, G...\n",
            "                               ...                        \n",
            "65432         Bachelor’s degree (B.A., B.S., B.Eng., etc.)\n",
            "65433         Bachelor’s degree (B.A., B.S., B.Eng., etc.)\n",
            "65434         Bachelor’s degree (B.A., B.S., B.Eng., etc.)\n",
            "65435    Secondary school (e.g. American high school, G...\n",
            "65436         Bachelor’s degree (B.A., B.S., B.Eng., etc.)\n",
            "Name: EdLevel, Length: 65437, dtype: object\n"
          ]
        }
      ],
      "source": [
        "most_frequent_value_country= df['Country'].value_counts().idxmax()\n",
        "most_frequent_value_EdLevel= df['EdLevel'].value_counts().idxmax()\n",
        "print(most_frequent_value_country)\n",
        "print(most_frequent_value_EdLevel)\n",
        "print(\"\\n\")\n",
        "\n",
        "print(df['Country'].fillna(most_frequent_value_country))\n",
        "print(\"\\n\")\n",
        "print(df['EdLevel'].fillna(most_frequent_value_EdLevel))"
      ]
    },
    {
      "cell_type": "markdown",
      "metadata": {
        "id": "mxCFfot3_Vwx"
      },
      "source": [
        "### 4. Encoding Categorical Variables\n"
      ]
    },
    {
      "cell_type": "markdown",
      "metadata": {
        "id": "UWgkLoeV_Vwx"
      },
      "source": [
        "<h5>4.1 Encode the Employment column using one-hot encoding.</h5>\n"
      ]
    },
    {
      "cell_type": "code",
      "execution_count": 7,
      "metadata": {
        "colab": {
          "base_uri": "https://localhost:8080/"
        },
        "id": "e3yjltxr_Vwx",
        "outputId": "66b60e2a-a263-414d-ea7c-ddca7e6d92e5"
      },
      "outputs": [
        {
          "output_type": "stream",
          "name": "stdout",
          "text": [
            "       ResponseId                      MainBranch                 Age  \\\n",
            "0               1  I am a developer by profession  Under 18 years old   \n",
            "1               2  I am a developer by profession     35-44 years old   \n",
            "2               3  I am a developer by profession     45-54 years old   \n",
            "3               4           I am learning to code     18-24 years old   \n",
            "4               5  I am a developer by profession     18-24 years old   \n",
            "...           ...                             ...                 ...   \n",
            "65432       65433  I am a developer by profession     18-24 years old   \n",
            "65433       65434  I am a developer by profession     25-34 years old   \n",
            "65434       65435  I am a developer by profession     25-34 years old   \n",
            "65435       65436  I am a developer by profession     18-24 years old   \n",
            "65436       65437     I code primarily as a hobby     18-24 years old   \n",
            "\n",
            "                                 RemoteWork   Check  \\\n",
            "0                                    Remote  Apples   \n",
            "1                                    Remote  Apples   \n",
            "2                                    Remote  Apples   \n",
            "3                                       NaN  Apples   \n",
            "4                                       NaN  Apples   \n",
            "...                                     ...     ...   \n",
            "65432                                Remote  Apples   \n",
            "65433                                Remote  Apples   \n",
            "65434                             In-person  Apples   \n",
            "65435  Hybrid (some remote, some in-person)  Apples   \n",
            "65436                                   NaN  Apples   \n",
            "\n",
            "                                        CodingActivities  \\\n",
            "0                                                  Hobby   \n",
            "1      Hobby;Contribute to open-source projects;Other...   \n",
            "2      Hobby;Contribute to open-source projects;Other...   \n",
            "3                                                    NaN   \n",
            "4                                                    NaN   \n",
            "...                                                  ...   \n",
            "65432                      Hobby;School or academic work   \n",
            "65433           Hobby;Contribute to open-source projects   \n",
            "65434                                              Hobby   \n",
            "65435  Hobby;Contribute to open-source projects;Profe...   \n",
            "65436                                                NaN   \n",
            "\n",
            "                                                 EdLevel  \\\n",
            "0                              Primary/elementary school   \n",
            "1           Bachelor’s degree (B.A., B.S., B.Eng., etc.)   \n",
            "2        Master’s degree (M.A., M.S., M.Eng., MBA, etc.)   \n",
            "3      Some college/university study without earning ...   \n",
            "4      Secondary school (e.g. American high school, G...   \n",
            "...                                                  ...   \n",
            "65432       Bachelor’s degree (B.A., B.S., B.Eng., etc.)   \n",
            "65433                                                NaN   \n",
            "65434       Bachelor’s degree (B.A., B.S., B.Eng., etc.)   \n",
            "65435  Secondary school (e.g. American high school, G...   \n",
            "65436                                                NaN   \n",
            "\n",
            "                                               LearnCode  \\\n",
            "0                                 Books / Physical media   \n",
            "1      Books / Physical media;Colleague;On the job tr...   \n",
            "2      Books / Physical media;Colleague;On the job tr...   \n",
            "3      Other online resources (e.g., videos, blogs, f...   \n",
            "4      Other online resources (e.g., videos, blogs, f...   \n",
            "...                                                  ...   \n",
            "65432  On the job training;School (i.e., University, ...   \n",
            "65433                                                NaN   \n",
            "65434  Other online resources (e.g., videos, blogs, f...   \n",
            "65435  On the job training;Other online resources (e....   \n",
            "65436                                                NaN   \n",
            "\n",
            "                                         LearnCodeOnline  \\\n",
            "0                                                    NaN   \n",
            "1      Technical documentation;Blogs;Books;Written Tu...   \n",
            "2      Technical documentation;Blogs;Books;Written Tu...   \n",
            "3      Stack Overflow;How-to videos;Interactive tutorial   \n",
            "4      Technical documentation;Blogs;Written Tutorial...   \n",
            "...                                                  ...   \n",
            "65432                                                NaN   \n",
            "65433                                                NaN   \n",
            "65434  Technical documentation;Stack Overflow;Social ...   \n",
            "65435  Technical documentation;Blogs;Written Tutorial...   \n",
            "65436                                                NaN   \n",
            "\n",
            "                                                 TechDoc  ...  \\\n",
            "0                                                    NaN  ...   \n",
            "1      API document(s) and/or SDK document(s);User gu...  ...   \n",
            "2      API document(s) and/or SDK document(s);User gu...  ...   \n",
            "3                                                    NaN  ...   \n",
            "4      API document(s) and/or SDK document(s);User gu...  ...   \n",
            "...                                                  ...  ...   \n",
            "65432                                                NaN  ...   \n",
            "65433                                                NaN  ...   \n",
            "65434  API document(s) and/or SDK document(s);AI-powe...  ...   \n",
            "65435  API document(s) and/or SDK document(s);User gu...  ...   \n",
            "65436                                                NaN  ...   \n",
            "\n",
            "      Employment_Student, full-time;Not employed, but looking for work;Not employed, and not looking for work;Student, part-time  \\\n",
            "0                                                  False                                                                           \n",
            "1                                                  False                                                                           \n",
            "2                                                  False                                                                           \n",
            "3                                                  False                                                                           \n",
            "4                                                  False                                                                           \n",
            "...                                                  ...                                                                           \n",
            "65432                                              False                                                                           \n",
            "65433                                              False                                                                           \n",
            "65434                                              False                                                                           \n",
            "65435                                              False                                                                           \n",
            "65436                                              False                                                                           \n",
            "\n",
            "      Employment_Student, full-time;Not employed, but looking for work;Retired  \\\n",
            "0                                                  False                         \n",
            "1                                                  False                         \n",
            "2                                                  False                         \n",
            "3                                                  False                         \n",
            "4                                                  False                         \n",
            "...                                                  ...                         \n",
            "65432                                              False                         \n",
            "65433                                              False                         \n",
            "65434                                              False                         \n",
            "65435                                              False                         \n",
            "65436                                              False                         \n",
            "\n",
            "      Employment_Student, full-time;Not employed, but looking for work;Student, part-time  \\\n",
            "0                                                  False                                    \n",
            "1                                                  False                                    \n",
            "2                                                  False                                    \n",
            "3                                                  False                                    \n",
            "4                                                  False                                    \n",
            "...                                                  ...                                    \n",
            "65432                                              False                                    \n",
            "65433                                              False                                    \n",
            "65434                                              False                                    \n",
            "65435                                              False                                    \n",
            "65436                                              False                                    \n",
            "\n",
            "      Employment_Student, full-time;Retired  \\\n",
            "0                                     False   \n",
            "1                                     False   \n",
            "2                                     False   \n",
            "3                                     False   \n",
            "4                                     False   \n",
            "...                                     ...   \n",
            "65432                                 False   \n",
            "65433                                 False   \n",
            "65434                                 False   \n",
            "65435                                 False   \n",
            "65436                                 False   \n",
            "\n",
            "      Employment_Student, full-time;Student, part-time  \\\n",
            "0                                                False   \n",
            "1                                                False   \n",
            "2                                                False   \n",
            "3                                                False   \n",
            "4                                                False   \n",
            "...                                                ...   \n",
            "65432                                            False   \n",
            "65433                                            False   \n",
            "65434                                            False   \n",
            "65435                                            False   \n",
            "65436                                            False   \n",
            "\n",
            "      Employment_Student, full-time;Student, part-time;Employed, part-time  \\\n",
            "0                                                  False                     \n",
            "1                                                  False                     \n",
            "2                                                  False                     \n",
            "3                                                  False                     \n",
            "4                                                  False                     \n",
            "...                                                  ...                     \n",
            "65432                                              False                     \n",
            "65433                                              False                     \n",
            "65434                                              False                     \n",
            "65435                                              False                     \n",
            "65436                                              False                     \n",
            "\n",
            "      Employment_Student, full-time;Student, part-time;Retired  \\\n",
            "0                                                  False         \n",
            "1                                                  False         \n",
            "2                                                  False         \n",
            "3                                                  False         \n",
            "4                                                  False         \n",
            "...                                                  ...         \n",
            "65432                                              False         \n",
            "65433                                              False         \n",
            "65434                                              False         \n",
            "65435                                              False         \n",
            "65436                                              False         \n",
            "\n",
            "      Employment_Student, part-time  \\\n",
            "0                             False   \n",
            "1                             False   \n",
            "2                             False   \n",
            "3                             False   \n",
            "4                             False   \n",
            "...                             ...   \n",
            "65432                         False   \n",
            "65433                         False   \n",
            "65434                         False   \n",
            "65435                         False   \n",
            "65436                         False   \n",
            "\n",
            "      Employment_Student, part-time;Employed, part-time  \\\n",
            "0                                                 False   \n",
            "1                                                 False   \n",
            "2                                                 False   \n",
            "3                                                 False   \n",
            "4                                                 False   \n",
            "...                                                 ...   \n",
            "65432                                             False   \n",
            "65433                                             False   \n",
            "65434                                             False   \n",
            "65435                                             False   \n",
            "65436                                             False   \n",
            "\n",
            "      Employment_Student, part-time;Retired  \n",
            "0                                     False  \n",
            "1                                     False  \n",
            "2                                     False  \n",
            "3                                     False  \n",
            "4                                     False  \n",
            "...                                     ...  \n",
            "65432                                 False  \n",
            "65433                                 False  \n",
            "65434                                 False  \n",
            "65435                                 False  \n",
            "65436                                 False  \n",
            "\n",
            "[65437 rows x 223 columns]\n"
          ]
        }
      ],
      "source": [
        "## Write your code here\n",
        "encoded_df = pd.get_dummies(df, columns=[\"Employment\"], prefix=\"Employment\")\n",
        "print(encoded_df)"
      ]
    },
    {
      "cell_type": "markdown",
      "metadata": {
        "id": "f7IYhaTL_Vwx"
      },
      "source": [
        "### 5. Handling Missing Values\n"
      ]
    },
    {
      "cell_type": "markdown",
      "metadata": {
        "id": "VkU36PSa_Vwy"
      },
      "source": [
        "<h5>5.1 Identify columns with the highest number of missing values.</h5>\n"
      ]
    },
    {
      "cell_type": "code",
      "execution_count": 8,
      "metadata": {
        "colab": {
          "base_uri": "https://localhost:8080/"
        },
        "id": "OclUtor__Vwy",
        "outputId": "5c6d134c-9ca3-49a5-b2d8-b3966d9118c5"
      },
      "outputs": [
        {
          "output_type": "stream",
          "name": "stdout",
          "text": [
            "AINextMuch less integrated    64289\n",
            "AINextLess integrated         63082\n",
            "AINextNo change               52939\n",
            "AINextMuch more integrated    51999\n",
            "EmbeddedAdmired               48704\n",
            "                              ...  \n",
            "MainBranch                        0\n",
            "Check                             0\n",
            "Employment                        0\n",
            "Age                               0\n",
            "ResponseId                        0\n",
            "Length: 114, dtype: int64\n"
          ]
        }
      ],
      "source": [
        "## Write your code here\n",
        "df_missing_Values= df.isnull().sum()\n",
        "\n",
        "sorted_missing = df_missing_Values.sort_values(ascending=False)\n",
        "print(sorted_missing)\n"
      ]
    },
    {
      "cell_type": "markdown",
      "metadata": {
        "id": "qRh4-WOo_Vwy"
      },
      "source": [
        "<h5>5.2 Impute missing values in numerical columns (e.g., `ConvertedCompYearly`) with the mean or median.</h5>\n"
      ]
    },
    {
      "cell_type": "code",
      "execution_count": 9,
      "metadata": {
        "colab": {
          "base_uri": "https://localhost:8080/"
        },
        "id": "eyAkImWS_Vwy",
        "outputId": "d95ce0dc-e46f-4bb8-844e-54266fdd8a53"
      },
      "outputs": [
        {
          "output_type": "stream",
          "name": "stdout",
          "text": [
            "42002\n",
            "86155.28726264134\n",
            "Missing values after imputation:\n",
            "0\n"
          ]
        },
        {
          "output_type": "stream",
          "name": "stderr",
          "text": [
            "<ipython-input-9-c06bb6f34742>:8: FutureWarning: A value is trying to be set on a copy of a DataFrame or Series through chained assignment using an inplace method.\n",
            "The behavior will change in pandas 3.0. This inplace method will never work because the intermediate object on which we are setting values always behaves as a copy.\n",
            "\n",
            "For example, when doing 'df[col].method(value, inplace=True)', try using 'df.method({col: value}, inplace=True)' or df[col] = df[col].method(value) instead, to perform the operation inplace on the original object.\n",
            "\n",
            "\n",
            "  df['ConvertedCompYearly'].fillna(ConvertedCompYearly_mean, inplace=True)\n"
          ]
        }
      ],
      "source": [
        "## Write your code here\n",
        "missing_values= df['ConvertedCompYearly'].isnull().sum()\n",
        "print(missing_values)\n",
        "\n",
        "ConvertedCompYearly_mean= df['ConvertedCompYearly'].mean()\n",
        "print(ConvertedCompYearly_mean)\n",
        "\n",
        "df['ConvertedCompYearly'].fillna(ConvertedCompYearly_mean, inplace=True)\n",
        "print(\"Missing values after imputation:\")\n",
        "\n",
        "missing_values_after_imputation= df['ConvertedCompYearly'].isnull().sum()\n",
        "print(missing_values_after_imputation)"
      ]
    },
    {
      "cell_type": "markdown",
      "metadata": {
        "id": "LWCw_YcG_Vwy"
      },
      "source": [
        "<h5>5.3 Impute missing values in categorical columns (e.g., `RemoteWork`) with the most frequent value.</h5>\n"
      ]
    },
    {
      "cell_type": "code",
      "execution_count": 10,
      "metadata": {
        "colab": {
          "base_uri": "https://localhost:8080/"
        },
        "id": "Uk1KNmpb_Vwz",
        "outputId": "eb1f2fbc-c72e-403b-dead-99bad1c4353b"
      },
      "outputs": [
        {
          "output_type": "stream",
          "name": "stdout",
          "text": [
            "Hybrid (some remote, some in-person)\n"
          ]
        },
        {
          "output_type": "stream",
          "name": "stderr",
          "text": [
            "<ipython-input-10-ccfe7ef4cfa2>:5: FutureWarning: A value is trying to be set on a copy of a DataFrame or Series through chained assignment using an inplace method.\n",
            "The behavior will change in pandas 3.0. This inplace method will never work because the intermediate object on which we are setting values always behaves as a copy.\n",
            "\n",
            "For example, when doing 'df[col].method(value, inplace=True)', try using 'df.method({col: value}, inplace=True)' or df[col] = df[col].method(value) instead, to perform the operation inplace on the original object.\n",
            "\n",
            "\n",
            "  df['RemoteWork'].fillna(most_frequent_value, inplace=True)\n"
          ]
        },
        {
          "output_type": "stream",
          "name": "stdout",
          "text": [
            "Missing values after imputation:\n",
            "ResponseId                 0\n",
            "MainBranch                 0\n",
            "Age                        0\n",
            "Employment                 0\n",
            "RemoteWork                 0\n",
            "                       ...  \n",
            "JobSatPoints_11        35992\n",
            "SurveyLength            9255\n",
            "SurveyEase              9199\n",
            "ConvertedCompYearly        0\n",
            "JobSat                 36311\n",
            "Length: 114, dtype: int64\n"
          ]
        }
      ],
      "source": [
        "## Write your code here\n",
        "most_frequent_value = df['RemoteWork'].mode()[0]\n",
        "print(most_frequent_value)\n",
        "\n",
        "df['RemoteWork'].fillna(most_frequent_value, inplace=True)\n",
        "\n",
        "#checking do missing values is been replaced\n",
        "\n",
        "missing_values_after_imputation = df.isnull().sum()\n",
        "\n",
        "print(\"Missing values after imputation:\")\n",
        "print(missing_values_after_imputation)"
      ]
    },
    {
      "cell_type": "markdown",
      "metadata": {
        "id": "l2yRc7P2_Vwz"
      },
      "source": [
        "### 6. Feature Scaling and Transformation\n"
      ]
    },
    {
      "cell_type": "markdown",
      "metadata": {
        "id": "Lu_PTyY3_Vwz"
      },
      "source": [
        "<h5>6.1 Apply Min-Max Scaling to normalize the `ConvertedCompYearly` column.</h5>\n"
      ]
    },
    {
      "cell_type": "code",
      "execution_count": 11,
      "metadata": {
        "colab": {
          "base_uri": "https://localhost:8080/",
          "height": 241
        },
        "id": "hM18UenC_Vwz",
        "outputId": "37b67fb0-bb8b-4973-d515-efdac8e21e70"
      },
      "outputs": [
        {
          "output_type": "execute_result",
          "data": {
            "text/plain": [
              "0    0.052996\n",
              "1    0.052996\n",
              "2    0.052996\n",
              "3    0.052996\n",
              "4    0.052996\n",
              "Name: ConvertedCompYearly_MinMax, dtype: float64"
            ],
            "text/html": [
              "<div>\n",
              "<style scoped>\n",
              "    .dataframe tbody tr th:only-of-type {\n",
              "        vertical-align: middle;\n",
              "    }\n",
              "\n",
              "    .dataframe tbody tr th {\n",
              "        vertical-align: top;\n",
              "    }\n",
              "\n",
              "    .dataframe thead th {\n",
              "        text-align: right;\n",
              "    }\n",
              "</style>\n",
              "<table border=\"1\" class=\"dataframe\">\n",
              "  <thead>\n",
              "    <tr style=\"text-align: right;\">\n",
              "      <th></th>\n",
              "      <th>ConvertedCompYearly_MinMax</th>\n",
              "    </tr>\n",
              "  </thead>\n",
              "  <tbody>\n",
              "    <tr>\n",
              "      <th>0</th>\n",
              "      <td>0.052996</td>\n",
              "    </tr>\n",
              "    <tr>\n",
              "      <th>1</th>\n",
              "      <td>0.052996</td>\n",
              "    </tr>\n",
              "    <tr>\n",
              "      <th>2</th>\n",
              "      <td>0.052996</td>\n",
              "    </tr>\n",
              "    <tr>\n",
              "      <th>3</th>\n",
              "      <td>0.052996</td>\n",
              "    </tr>\n",
              "    <tr>\n",
              "      <th>4</th>\n",
              "      <td>0.052996</td>\n",
              "    </tr>\n",
              "  </tbody>\n",
              "</table>\n",
              "</div><br><label><b>dtype:</b> float64</label>"
            ]
          },
          "metadata": {},
          "execution_count": 11
        }
      ],
      "source": [
        "import sklearn\n",
        "from sklearn.preprocessing import MinMaxScaler\n",
        "df = df.dropna(subset=['ConvertedCompYearly'])\n",
        "min_max_scaler = MinMaxScaler()\n",
        "min_max_scaler = MinMaxScaler(feature_range=(0, 10))\n",
        "df['ConvertedCompYearly_MinMax'] = min_max_scaler.fit_transform(df[['ConvertedCompYearly']])\n",
        "\n",
        "df['ConvertedCompYearly_MinMax'].head()"
      ]
    },
    {
      "cell_type": "markdown",
      "metadata": {
        "id": "bH58Eq5Y_Vwz"
      },
      "source": [
        "<h5>6.2 Log-transform the ConvertedCompYearly column to reduce skewness.</h5>\n"
      ]
    },
    {
      "cell_type": "code",
      "execution_count": 12,
      "metadata": {
        "colab": {
          "base_uri": "https://localhost:8080/"
        },
        "id": "02KnDmvE_Vw0",
        "outputId": "904fcc3d-f0fb-4788-d97a-9195136d5d6f"
      },
      "outputs": [
        {
          "output_type": "stream",
          "name": "stdout",
          "text": [
            "       ResponseId                      MainBranch                 Age  \\\n",
            "0               1  I am a developer by profession  Under 18 years old   \n",
            "1               2  I am a developer by profession     35-44 years old   \n",
            "2               3  I am a developer by profession     45-54 years old   \n",
            "3               4           I am learning to code     18-24 years old   \n",
            "4               5  I am a developer by profession     18-24 years old   \n",
            "...           ...                             ...                 ...   \n",
            "65432       65433  I am a developer by profession     18-24 years old   \n",
            "65433       65434  I am a developer by profession     25-34 years old   \n",
            "65434       65435  I am a developer by profession     25-34 years old   \n",
            "65435       65436  I am a developer by profession     18-24 years old   \n",
            "65436       65437     I code primarily as a hobby     18-24 years old   \n",
            "\n",
            "                Employment                            RemoteWork   Check  \\\n",
            "0      Employed, full-time                                Remote  Apples   \n",
            "1      Employed, full-time                                Remote  Apples   \n",
            "2      Employed, full-time                                Remote  Apples   \n",
            "3       Student, full-time  Hybrid (some remote, some in-person)  Apples   \n",
            "4       Student, full-time  Hybrid (some remote, some in-person)  Apples   \n",
            "...                    ...                                   ...     ...   \n",
            "65432  Employed, full-time                                Remote  Apples   \n",
            "65433  Employed, full-time                                Remote  Apples   \n",
            "65434  Employed, full-time                             In-person  Apples   \n",
            "65435  Employed, full-time  Hybrid (some remote, some in-person)  Apples   \n",
            "65436   Student, full-time  Hybrid (some remote, some in-person)  Apples   \n",
            "\n",
            "                                        CodingActivities  \\\n",
            "0                                                  Hobby   \n",
            "1      Hobby;Contribute to open-source projects;Other...   \n",
            "2      Hobby;Contribute to open-source projects;Other...   \n",
            "3                                                    NaN   \n",
            "4                                                    NaN   \n",
            "...                                                  ...   \n",
            "65432                      Hobby;School or academic work   \n",
            "65433           Hobby;Contribute to open-source projects   \n",
            "65434                                              Hobby   \n",
            "65435  Hobby;Contribute to open-source projects;Profe...   \n",
            "65436                                                NaN   \n",
            "\n",
            "                                                 EdLevel  \\\n",
            "0                              Primary/elementary school   \n",
            "1           Bachelor’s degree (B.A., B.S., B.Eng., etc.)   \n",
            "2        Master’s degree (M.A., M.S., M.Eng., MBA, etc.)   \n",
            "3      Some college/university study without earning ...   \n",
            "4      Secondary school (e.g. American high school, G...   \n",
            "...                                                  ...   \n",
            "65432       Bachelor’s degree (B.A., B.S., B.Eng., etc.)   \n",
            "65433                                                NaN   \n",
            "65434       Bachelor’s degree (B.A., B.S., B.Eng., etc.)   \n",
            "65435  Secondary school (e.g. American high school, G...   \n",
            "65436                                                NaN   \n",
            "\n",
            "                                               LearnCode  \\\n",
            "0                                 Books / Physical media   \n",
            "1      Books / Physical media;Colleague;On the job tr...   \n",
            "2      Books / Physical media;Colleague;On the job tr...   \n",
            "3      Other online resources (e.g., videos, blogs, f...   \n",
            "4      Other online resources (e.g., videos, blogs, f...   \n",
            "...                                                  ...   \n",
            "65432  On the job training;School (i.e., University, ...   \n",
            "65433                                                NaN   \n",
            "65434  Other online resources (e.g., videos, blogs, f...   \n",
            "65435  On the job training;Other online resources (e....   \n",
            "65436                                                NaN   \n",
            "\n",
            "                                         LearnCodeOnline  ... JobSatPoints_8  \\\n",
            "0                                                    NaN  ...            NaN   \n",
            "1      Technical documentation;Blogs;Books;Written Tu...  ...            0.0   \n",
            "2      Technical documentation;Blogs;Books;Written Tu...  ...            NaN   \n",
            "3      Stack Overflow;How-to videos;Interactive tutorial  ...            NaN   \n",
            "4      Technical documentation;Blogs;Written Tutorial...  ...            NaN   \n",
            "...                                                  ...  ...            ...   \n",
            "65432                                                NaN  ...            NaN   \n",
            "65433                                                NaN  ...            NaN   \n",
            "65434  Technical documentation;Stack Overflow;Social ...  ...            NaN   \n",
            "65435  Technical documentation;Blogs;Written Tutorial...  ...            0.0   \n",
            "65436                                                NaN  ...            NaN   \n",
            "\n",
            "      JobSatPoints_9 JobSatPoints_10 JobSatPoints_11           SurveyLength  \\\n",
            "0                NaN             NaN             NaN                    NaN   \n",
            "1                0.0             0.0             0.0                    NaN   \n",
            "2                NaN             NaN             NaN  Appropriate in length   \n",
            "3                NaN             NaN             NaN               Too long   \n",
            "4                NaN             NaN             NaN              Too short   \n",
            "...              ...             ...             ...                    ...   \n",
            "65432            NaN             NaN             NaN                    NaN   \n",
            "65433            NaN             NaN             NaN                    NaN   \n",
            "65434            NaN             NaN             NaN                    NaN   \n",
            "65435            0.0             0.0             0.0                    NaN   \n",
            "65436            NaN             NaN             NaN                    NaN   \n",
            "\n",
            "      SurveyEase ConvertedCompYearly JobSat ConvertedCompYearly_MinMax  \\\n",
            "0            NaN        86155.287263    NaN                   0.052996   \n",
            "1            NaN        86155.287263    NaN                   0.052996   \n",
            "2           Easy        86155.287263    NaN                   0.052996   \n",
            "3           Easy        86155.287263    NaN                   0.052996   \n",
            "4           Easy        86155.287263    NaN                   0.052996   \n",
            "...          ...                 ...    ...                        ...   \n",
            "65432        NaN        86155.287263    NaN                   0.052996   \n",
            "65433        NaN        86155.287263    NaN                   0.052996   \n",
            "65434        NaN        86155.287263    NaN                   0.052996   \n",
            "65435        NaN        86155.287263    NaN                   0.052996   \n",
            "65436        NaN        86155.287263    NaN                   0.052996   \n",
            "\n",
            "      ConvertedCompYearly_Log  \n",
            "0                   11.363918  \n",
            "1                   11.363918  \n",
            "2                   11.363918  \n",
            "3                   11.363918  \n",
            "4                   11.363918  \n",
            "...                       ...  \n",
            "65432               11.363918  \n",
            "65433               11.363918  \n",
            "65434               11.363918  \n",
            "65435               11.363918  \n",
            "65436               11.363918  \n",
            "\n",
            "[65437 rows x 116 columns]\n"
          ]
        }
      ],
      "source": [
        "## Write your code here\n",
        "# Use np.log1p to handle zeros safely (log(1 + x) instead of log(x))\n",
        "import numpy as np\n",
        "df[\"ConvertedCompYearly_Log\"] = np.log1p(df[\"ConvertedCompYearly\"])\n",
        "\n",
        "# Display the result\n",
        "print(df)\n"
      ]
    },
    {
      "cell_type": "markdown",
      "metadata": {
        "id": "qWBP0ZtI_Vw1"
      },
      "source": [
        "### 7. Feature Engineering\n"
      ]
    },
    {
      "cell_type": "markdown",
      "metadata": {
        "id": "qE3NUwLA_Vw1"
      },
      "source": [
        "<h5>7.1 Create a new column `ExperienceLevel` based on the `YearsCodePro` column:</h5>\n"
      ]
    },
    {
      "cell_type": "code",
      "execution_count": 19,
      "metadata": {
        "colab": {
          "base_uri": "https://localhost:8080/",
          "height": 458
        },
        "id": "a4BU6avX_Vw1",
        "outputId": "d5f15b8b-a849-4e95-c153-cdabac04ff7f"
      },
      "outputs": [
        {
          "output_type": "execute_result",
          "data": {
            "text/plain": [
              "0         NaN\n",
              "1        17.0\n",
              "2        27.0\n",
              "3         NaN\n",
              "4         NaN\n",
              "         ... \n",
              "65432     3.0\n",
              "65433     NaN\n",
              "65434     5.0\n",
              "65435     2.0\n",
              "65436     NaN\n",
              "Name: ExperienceLevel, Length: 65437, dtype: float64"
            ],
            "text/html": [
              "<div>\n",
              "<style scoped>\n",
              "    .dataframe tbody tr th:only-of-type {\n",
              "        vertical-align: middle;\n",
              "    }\n",
              "\n",
              "    .dataframe tbody tr th {\n",
              "        vertical-align: top;\n",
              "    }\n",
              "\n",
              "    .dataframe thead th {\n",
              "        text-align: right;\n",
              "    }\n",
              "</style>\n",
              "<table border=\"1\" class=\"dataframe\">\n",
              "  <thead>\n",
              "    <tr style=\"text-align: right;\">\n",
              "      <th></th>\n",
              "      <th>ExperienceLevel</th>\n",
              "    </tr>\n",
              "  </thead>\n",
              "  <tbody>\n",
              "    <tr>\n",
              "      <th>0</th>\n",
              "      <td>NaN</td>\n",
              "    </tr>\n",
              "    <tr>\n",
              "      <th>1</th>\n",
              "      <td>17.0</td>\n",
              "    </tr>\n",
              "    <tr>\n",
              "      <th>2</th>\n",
              "      <td>27.0</td>\n",
              "    </tr>\n",
              "    <tr>\n",
              "      <th>3</th>\n",
              "      <td>NaN</td>\n",
              "    </tr>\n",
              "    <tr>\n",
              "      <th>4</th>\n",
              "      <td>NaN</td>\n",
              "    </tr>\n",
              "    <tr>\n",
              "      <th>...</th>\n",
              "      <td>...</td>\n",
              "    </tr>\n",
              "    <tr>\n",
              "      <th>65432</th>\n",
              "      <td>3.0</td>\n",
              "    </tr>\n",
              "    <tr>\n",
              "      <th>65433</th>\n",
              "      <td>NaN</td>\n",
              "    </tr>\n",
              "    <tr>\n",
              "      <th>65434</th>\n",
              "      <td>5.0</td>\n",
              "    </tr>\n",
              "    <tr>\n",
              "      <th>65435</th>\n",
              "      <td>2.0</td>\n",
              "    </tr>\n",
              "    <tr>\n",
              "      <th>65436</th>\n",
              "      <td>NaN</td>\n",
              "    </tr>\n",
              "  </tbody>\n",
              "</table>\n",
              "<p>65437 rows × 1 columns</p>\n",
              "</div><br><label><b>dtype:</b> float64</label>"
            ]
          },
          "metadata": {},
          "execution_count": 19
        }
      ],
      "source": [
        "## Write your code here\n",
        "df['ExperienceLevel'] = pd.to_numeric(df['YearsCodePro'], errors='coerce')\n",
        "df['ExperienceLevel']\n",
        "\n",
        "df['ExperienceLevel'].fillna(0, inplace=True)\n",
        "df['ExperienceLevel']\n",
        "\n",
        "df['ExperienceLevel'] = df['ExperienceLevel'].astype(int)\n",
        "df['ExperienceLevel']"
      ]
    },
    {
      "cell_type": "markdown",
      "metadata": {
        "id": "d4y36I3H_Vw1"
      },
      "source": [
        "### Summary\n"
      ]
    },
    {
      "cell_type": "markdown",
      "metadata": {
        "id": "V44UXJPQ_Vw1"
      },
      "source": [
        "In this lab, you:\n",
        "\n",
        "- Explored the dataset to identify inconsistencies and missing values.\n",
        "\n",
        "- Encoded categorical variables for analysis.\n",
        "\n",
        "- Handled missing values using imputation techniques.\n",
        "\n",
        "- Normalized and transformed numerical data to prepare it for analysis.\n",
        "\n",
        "- Engineered a new feature to enhance data interpretation.\n"
      ]
    },
    {
      "cell_type": "markdown",
      "metadata": {
        "id": "rpT6s-kv_Vw1"
      },
      "source": [
        "Copyright © IBM Corporation. All rights reserved.\n"
      ]
    }
  ],
  "metadata": {
    "kernelspec": {
      "display_name": "Python 3 (ipykernel)",
      "language": "python",
      "name": "python3"
    },
    "language_info": {
      "codemirror_mode": {
        "name": "ipython",
        "version": 3
      },
      "file_extension": ".py",
      "mimetype": "text/x-python",
      "name": "python",
      "nbconvert_exporter": "python",
      "pygments_lexer": "ipython3",
      "version": "3.11.9"
    },
    "prev_pub_hash": "1e8e234f19fd098e27b0518a87f18de690e1c51f1d3263d5690927d19971251e",
    "colab": {
      "provenance": []
    }
  },
  "nbformat": 4,
  "nbformat_minor": 0
}